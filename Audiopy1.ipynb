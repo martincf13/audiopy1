{
 "cells": [
  {
   "cell_type": "markdown",
   "id": "4456b16b-c27c-464d-8507-0fe08d16a9fa",
   "metadata": {},
   "source": [
    "# Análisis de Audio con Python y JupyterLab\n",
    "\n",
    "A continuacion, vamos a realiazr un analisis de un archivo de audio estéreo, para esto vamos a:\n",
    "\n",
    "    1. Cargar el archivo\n",
    "    2. Obtener informacion de sus características\n",
    "    3. Reproducirlo en estéreo\n",
    "    4. Convertir el archivo de audio de estéreo a mono\n",
    "    5. Mostrar las caracteristicas de ambos audios\n",
    "    6. Reproducirlo en mono\n",
    "    7. Grafica en el tiempo de ambos audios\n",
    "\n",
    "Vamos a explicary ejecutar el código para cargar y analizar un archivo de audio, mostrando sus características, como la frecuencia de muestreo, el número de canales y el tamaño del archivo en MB. Además, incluiremos un widget para la reproducción del audio."
   ]
  },
  {
   "cell_type": "markdown",
   "id": "6e82a5fd-5213-45d9-99f2-c13e2fe33d47",
   "metadata": {},
   "source": [
    "Antes de comenzar, vamos a instalar y cargar las librerias necesarias"
   ]
  },
  {
   "cell_type": "code",
   "execution_count": null,
   "id": "195b75b6-6443-44e8-8a41-b7fa4bb3643e",
   "metadata": {},
   "outputs": [],
   "source": [
    "# Instalación de las librerías necesarias\n",
    "!pip install librosa ipython\n",
    "!pip install matplotlib\n",
    "\n",
    "\n",
    "import librosa  # Para el manejo de archivos de audio\n",
    "import librosa.display  # Para mostrar información visual de audio\n",
    "from IPython.display import Audio  # Para reproducir el audio directamente en Jupyter\n",
    "import os  # Para trabajar con el sistema de archivos\n"
   ]
  },
  {
   "cell_type": "markdown",
   "id": "e7a057b0-67ab-45bf-bc48-1786781a43e5",
   "metadata": {},
   "source": [
    "## 1.Cargar un archivo de audio\n",
    "\n",
    "En esta sección, cargaremos un archivo de audio estéreo utilizando la librería `librosa`.\n",
    "\n",
    "Vamos a utilizar la función `librosa.load()` para cargar el archivo y obtener información sobre el audio.\n"
   ]
  },
  {
   "cell_type": "code",
   "execution_count": null,
   "id": "e0ca9c32-5451-4434-851e-2cd567df3f72",
   "metadata": {},
   "outputs": [],
   "source": [
    "audio_file_path = 'game_of_thrones.mp3'  # Ruta al archivo de audio\n",
    "audio_data_stereo, sample_rate = librosa.load(audio_file_path, sr=None, mono=False)  # Carga del archivo sin cambiar la frecuencia"
   ]
  },
  {
   "cell_type": "markdown",
   "id": "c5f8ca59-0bb4-4d12-9aab-b273e201edf6",
   "metadata": {},
   "source": [
    "## 2.Obtener informacion de sus caracteristicas"
   ]
  },
  {
   "cell_type": "code",
   "execution_count": null,
   "id": "92fcad56-dd1b-4740-8f85-b3a01995aadd",
   "metadata": {},
   "outputs": [],
   "source": [
    "print(f'Frecuencia de muestreo: {sample_rate} Hz')  # Frecuencia de muestreo\n",
    "print(f'Número de canales: {audio_data_stereo.shape[0]}')  # Número de canales (canal 0: izquierdo, canal 1: derecho)\n",
    "print(f'Tamaño del archivo (MB): {os.path.getsize(audio_file_path) / (1024 * 1024):.2f} MB')  # Tamaño del archivo en MB"
   ]
  },
  {
   "cell_type": "markdown",
   "id": "f9d03b59-73fd-47a0-9de0-a37b7ba41101",
   "metadata": {},
   "source": [
    "## 3.Reproducir el audio en estéreo\n",
    "\n",
    "Ahora, vamos a añadir un widget interactivo que nos permita reproducir el archivo de audio. Utilizaremos la función `Audio` de `IPython.display` para lograrlo.\n"
   ]
  },
  {
   "cell_type": "code",
   "execution_count": null,
   "id": "5f464cfd-f61e-4eaf-abff-5ed926cd000b",
   "metadata": {},
   "outputs": [],
   "source": [
    "Audio(audio_data_stereo, rate=sample_rate)  # 'audio_data' contiene el archivo de audio y 'sample_rate' es la frecuencia de muestreo. Esto nos reproduce el audio"
   ]
  },
  {
   "cell_type": "markdown",
   "id": "9dbe1e64-c444-425e-a32a-70b4c6bf18e5",
   "metadata": {},
   "source": [
    "# 4.Convertir el archivo de audio de estéreo a mono\n",
    "\n",
    "Ahora vamos a cargar un archivo de audio estéreo, lo convertiremos a mono."
   ]
  },
  {
   "cell_type": "code",
   "execution_count": null,
   "id": "0bb8018b-4410-404f-bf19-6ff294f5193f",
   "metadata": {},
   "outputs": [],
   "source": [
    "audio_data_mono = librosa.to_mono(audio_data_stereo)"
   ]
  },
  {
   "cell_type": "markdown",
   "id": "41e281f4-472c-4012-8177-d81660658d31",
   "metadata": {},
   "source": [
    "# 5.Mostrar las características de ambos audios"
   ]
  },
  {
   "cell_type": "code",
   "execution_count": null,
   "id": "b052110f-ce66-43aa-8b37-90340a3fd449",
   "metadata": {},
   "outputs": [],
   "source": [
    "# Mostrar características del audio estéreo\n",
    "print(f'Audio Estéreo:')\n",
    "print(f'Frecuencia de muestreo: {sample_rate} Hz')\n",
    "print(f'Número de canales: {audio_data_stereo.shape[0]}')  # 2 canales para audio estéreo\n",
    "print(f'Tamaño del archivo (MB): {os.path.getsize(audio_file_path) / (1024 * 1024):.2f} MB')\n",
    "\n",
    "# Mostrar características del audio mono\n",
    "print(f'\\nAudio Mono:')\n",
    "print(f'Número de canales: {1}')  # El audio mono tiene 1 canal\n",
    "print(f'Tamaño del archivo (MB) (aproximado): {os.path.getsize(audio_file_path) / (1024 * 1024):.2f} MB')"
   ]
  },
  {
   "cell_type": "markdown",
   "id": "71095a55-d87c-4903-a84a-3264257c3847",
   "metadata": {},
   "source": [
    "# 6. Reproducirlo en mono\n",
    "\n",
    "Ahora, vamos a añadir un widget para reproducir el archivo de audio mono. Usaremos `IPython.display.Audio` para crear el widget interactivo en JupyterLab."
   ]
  },
  {
   "cell_type": "code",
   "execution_count": null,
   "id": "3d054f08-2575-4ed7-bb36-737f98ea6ac6",
   "metadata": {},
   "outputs": [],
   "source": [
    "Audio(audio_data_mono, rate=sample_rate)  # 'audio_data_mono' contiene el archivo de audio mono y 'sample_rate' es la frecuencia de muestreo"
   ]
  },
  {
   "cell_type": "markdown",
   "id": "4ab9d512-b22a-4950-9ccc-836a11e8dc08",
   "metadata": {},
   "source": [
    "# 7. Grafica en el tiempo de ambos audios\n",
    "\n",
    "Aquí vamos a visualizar el audio en el **dominio del tiempo** para comparar las ondas sonoras en formato estéreo y mono\n",
    "\n",
    "Usaremos `librosa.display.waveshow()` para graficar las formas de onda de ambos tipos de audio."
   ]
  },
  {
   "cell_type": "code",
   "execution_count": null,
   "id": "af8c863b-9f7e-45eb-b509-2905683109a4",
   "metadata": {
    "scrolled": true
   },
   "outputs": [],
   "source": [
    "import matplotlib.pyplot as plt\n",
    "\n",
    "# Graficar el audio estéreo\n",
    "plt.figure(figsize=(10, 6))\n",
    "plt.subplot(2, 1, 1)\n",
    "librosa.display.waveshow(audio_data_stereo[0], sr=sample_rate, label='Canal Izquierdo')  # Graficar el canal izquierdo\n",
    "librosa.display.waveshow(audio_data_stereo[1], sr=sample_rate, label='Canal Derecho')  # Graficar el canal derecho\n",
    "plt.title('Audio Estéreo en el Dominio del Tiempo')\n",
    "plt.xlabel('Tiempo (segundos)')\n",
    "plt.ylabel('Amplitud')\n",
    "plt.legend()\n",
    "\n",
    "# Graficar el audio mono\n",
    "plt.subplot(2, 1, 2)\n",
    "librosa.display.waveshow(audio_data_mono, sr=sample_rate, color='r', label='Audio Mono')  # Graficar audio mono\n",
    "plt.title('Audio Mono en el Dominio del Tiempo')\n",
    "plt.xlabel('Tiempo (segundos)')\n",
    "plt.ylabel('Amplitud')\n",
    "plt.legend()\n",
    "\n",
    "# Mostrar ambas gráficas\n",
    "plt.tight_layout()\n",
    "plt.show()\n"
   ]
  },
  {
   "cell_type": "markdown",
   "id": "e721a77b-73da-4d6e-bcb8-eb1fb3b4c414",
   "metadata": {},
   "source": [
    "# Diferencia entre estéreo y mono\n",
    "\n",
    "El audio **mono** tiene solo un canal de audio. Esto significa que tanto el canal izquierdo como el derecho reproducen exactamente la misma señal, pero combinados en un solo canal. El archivo de audio tiene una **única señal** que se reproduce por ambos altavoces o auriculares.\n",
    "\n",
    "El audio **estéreo** tiene dos canales: uno para el canal izquierdo y otro para el derecho. Esto crea una **sensación de espacialidad** en el sonido, permitiendonos percibir sonidos que parecen provenir de diferentes direcciones."
   ]
  }
 ],
 "metadata": {
  "kernelspec": {
   "display_name": "Python (mi_entorno)",
   "language": "python",
   "name": "mi_entorno"
  },
  "language_info": {
   "codemirror_mode": {
    "name": "ipython",
    "version": 3
   },
   "file_extension": ".py",
   "mimetype": "text/x-python",
   "name": "python",
   "nbconvert_exporter": "python",
   "pygments_lexer": "ipython3",
   "version": "3.10.16"
  }
 },
 "nbformat": 4,
 "nbformat_minor": 5
}
